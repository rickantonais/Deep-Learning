{
 "cells": [
  {
   "cell_type": "code",
   "execution_count": 1,
   "metadata": {},
   "outputs": [],
   "source": [
    "import tensorflow as tf\n",
    "from tensorflow.keras.layers import Dense, Dropout, Activation, Flatten, Conv2D, MaxPooling2D\n",
    "from tensorflow.keras.models import Sequential\n",
    "from tensorflow.keras.callbacks import TensorBoard\n",
    "import pickle\n",
    "import time\n",
    "\n",
    "NAME = \"CatsVsDogs_{}\".format(int(time.time()))\n",
    "tensorboard = TensorBoard(log_dir='logs/{}'.format(NAME))\n",
    "\n",
    "pickle_in = open(\"X.pickle\",\"rb\")\n",
    "X = pickle.load(pickle_in)\n",
    "\n",
    "pickle_in = open(\"Y.pickle\",\"rb\")\n",
    "Y = pickle.load(pickle_in)"
   ]
  },
  {
   "cell_type": "code",
   "execution_count": 2,
   "metadata": {},
   "outputs": [],
   "source": [
    "X = X/255.0"
   ]
  },
  {
   "cell_type": "code",
   "execution_count": 3,
   "metadata": {},
   "outputs": [],
   "source": [
    "model = Sequential()\n",
    "\n",
    "model.add(Conv2D(256,(3,3),input_shape=X.shape[1:]))\n",
    "model.add(Activation('relu'))\n",
    "model.add(MaxPooling2D(pool_size=(2,2)))\n",
    "\n",
    "model.add(Conv2D(256,(3,3)))\n",
    "model.add(Activation('relu'))\n",
    "model.add(MaxPooling2D(pool_size=(2,2)))\n",
    "\n",
    "model.add(Flatten())\n",
    "model.add(Dense(64))\n",
    "model.add(Activation('relu'))\n",
    "\n",
    "model.add(Dense(1))\n",
    "model.add(Activation('sigmoid'))\n",
    "\n",
    "tensorboard = TensorBoard(log_dir=\"logs/{}\".format(NAME))\n",
    "\n",
    "model.compile(loss = 'binary_crossentropy',\n",
    "             optimizer = 'adam',\n",
    "             metrics = [\"accuracy\"])"
   ]
  },
  {
   "cell_type": "code",
   "execution_count": 4,
   "metadata": {},
   "outputs": [
    {
     "name": "stdout",
     "output_type": "stream",
     "text": [
      "Train on 17462 samples, validate on 7484 samples\n",
      "Epoch 1/3\n",
      "17462/17462 [==============================] - 628s 36ms/step - loss: 0.6349 - acc: 0.6338 - val_loss: 0.6810 - val_acc: 0.6058\n",
      "Epoch 2/3\n",
      "17462/17462 [==============================] - 621s 36ms/step - loss: 0.5438 - acc: 0.7281 - val_loss: 0.5674 - val_acc: 0.7170\n",
      "Epoch 3/3\n",
      "17462/17462 [==============================] - 623s 36ms/step - loss: 0.4902 - acc: 0.7641 - val_loss: 0.5198 - val_acc: 0.7443\n"
     ]
    },
    {
     "data": {
      "text/plain": [
       "<tensorflow.python.keras.callbacks.History at 0x2a4cdefae48>"
      ]
     },
     "execution_count": 4,
     "metadata": {},
     "output_type": "execute_result"
    }
   ],
   "source": [
    "model.fit(X,Y,\n",
    "         batch_size=32,\n",
    "         epochs=3,\n",
    "         validation_split=0.3,\n",
    "         callbacks=[tensorboard])"
   ]
  },
  {
   "cell_type": "code",
   "execution_count": 5,
   "metadata": {},
   "outputs": [
    {
     "name": "stdout",
     "output_type": "stream",
     "text": [
      "Train on 17462 samples, validate on 7484 samples\n",
      "Epoch 1/10\n",
      "17462/17462 [==============================] - 472s 27ms/step - loss: 0.6406 - acc: 0.6236 - val_loss: 0.5748 - val_acc: 0.7035\n",
      "Epoch 2/10\n",
      "17462/17462 [==============================] - 466s 27ms/step - loss: 0.5298 - acc: 0.7349 - val_loss: 0.5043 - val_acc: 0.7521\n",
      "Epoch 3/10\n",
      "17462/17462 [==============================] - 464s 27ms/step - loss: 0.4924 - acc: 0.7602 - val_loss: 0.4986 - val_acc: 0.7598\n",
      "Epoch 4/10\n",
      "17462/17462 [==============================] - 462s 26ms/step - loss: 0.4533 - acc: 0.7856 - val_loss: 0.4839 - val_acc: 0.7703\n",
      "Epoch 5/10\n",
      "17462/17462 [==============================] - 456s 26ms/step - loss: 0.4209 - acc: 0.8062 - val_loss: 0.4805 - val_acc: 0.7771\n",
      "Epoch 6/10\n",
      "17462/17462 [==============================] - 462s 26ms/step - loss: 0.3897 - acc: 0.8237 - val_loss: 0.4524 - val_acc: 0.7904\n",
      "Epoch 7/10\n",
      "17462/17462 [==============================] - 457s 26ms/step - loss: 0.3570 - acc: 0.8419 - val_loss: 0.4660 - val_acc: 0.7797\n",
      "Epoch 8/10\n",
      "17462/17462 [==============================] - 452s 26ms/step - loss: 0.3275 - acc: 0.8553 - val_loss: 0.4545 - val_acc: 0.7950\n",
      "Epoch 9/10\n",
      "17462/17462 [==============================] - 454s 26ms/step - loss: 0.2864 - acc: 0.8773 - val_loss: 0.4706 - val_acc: 0.7926\n",
      "Epoch 10/10\n",
      "17462/17462 [==============================] - 472s 27ms/step - loss: 0.2501 - acc: 0.8957 - val_loss: 0.5443 - val_acc: 0.7707\n"
     ]
    },
    {
     "data": {
      "text/plain": [
       "<tensorflow.python.keras.callbacks.History at 0x2a4d5d93588>"
      ]
     },
     "execution_count": 5,
     "metadata": {},
     "output_type": "execute_result"
    }
   ],
   "source": [
    "#we create another model to compare with our previous function\n",
    "\n",
    "NAME = \"CatsVsDogs_{}\".format(int(time.time())) #declare it back again to change time otherwise the tensorboard will be appended to the first plot \n",
    "tensorboard = TensorBoard(log_dir='logs/{}'.format(NAME))\n",
    "\n",
    "model = Sequential()\n",
    "\n",
    "model.add(Conv2D(64,(3,3),input_shape=X.shape[1:]))\n",
    "model.add(Activation('relu'))\n",
    "model.add(MaxPooling2D(pool_size=(2,2)))\n",
    "\n",
    "model.add(Conv2D(64,(3,3)))\n",
    "model.add(Activation('relu'))\n",
    "model.add(MaxPooling2D(pool_size=(2,2)))\n",
    "\n",
    "model.add(Flatten())\n",
    "model.add(Dense(64))\n",
    "model.add(Activation('relu'))\n",
    "\n",
    "model.add(Dense(1))\n",
    "model.add(Activation('sigmoid'))\n",
    "\n",
    "tensorboard = TensorBoard(log_dir=\"logs/{}\".format(NAME))\n",
    "\n",
    "model.compile(loss = 'binary_crossentropy',\n",
    "             optimizer = 'adam',\n",
    "             metrics = [\"accuracy\"])\n",
    "\n",
    "model.fit(X,Y,\n",
    "         batch_size=32,\n",
    "         epochs=10,\n",
    "         validation_split=0.3,\n",
    "         callbacks=[tensorboard])"
   ]
  },
  {
   "cell_type": "code",
   "execution_count": 6,
   "metadata": {},
   "outputs": [],
   "source": [
    "model.save(\"Keras-10epochs.model\")"
   ]
  },
  {
   "cell_type": "code",
   "execution_count": null,
   "metadata": {},
   "outputs": [],
   "source": []
  }
 ],
 "metadata": {
  "kernelspec": {
   "display_name": "Python36",
   "language": "python",
   "name": "python36"
  },
  "language_info": {
   "codemirror_mode": {
    "name": "ipython",
    "version": 3
   },
   "file_extension": ".py",
   "mimetype": "text/x-python",
   "name": "python",
   "nbconvert_exporter": "python",
   "pygments_lexer": "ipython3",
   "version": "3.6.7"
  }
 },
 "nbformat": 4,
 "nbformat_minor": 2
}
